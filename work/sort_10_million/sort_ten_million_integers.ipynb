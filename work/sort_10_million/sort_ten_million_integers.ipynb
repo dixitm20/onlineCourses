{
 "cells": [
  {
   "cell_type": "code",
   "execution_count": 8,
   "metadata": {},
   "outputs": [],
   "source": [
    "import random"
   ]
  },
  {
   "cell_type": "markdown",
   "metadata": {},
   "source": [
    "# Define Function To Generate the Input List"
   ]
  },
  {
   "cell_type": "code",
   "execution_count": 9,
   "metadata": {},
   "outputs": [],
   "source": [
    "# function to generate a list of random integers (in the range 1 to 100) of given size.\n",
    "def genRandList(size,minIntVal,maxIntVal):\n",
    "    listrandom=[]\n",
    "    for i in range(1,size+1):\n",
    "        value=random.randint(minIntVal,maxIntVal)\n",
    "        listrandom.append(value)\n",
    "    return listrandom"
   ]
  },
  {
   "cell_type": "markdown",
   "metadata": {},
   "source": [
    "# Define function to sort the Input List"
   ]
  },
  {
   "cell_type": "code",
   "execution_count": 10,
   "metadata": {},
   "outputs": [],
   "source": [
    "def sortRandList(inputRandomList,minIntVal,maxIntVal):\n",
    "    # Intitialize (set initial frequency of each integer to 0) a dictionary to count occurence of each integer\n",
    "    inputIntegerRangeFrequencyCtr={}\n",
    "    for i in range(minIntVal,maxIntVal+1):\n",
    "        inputIntegerRangeFrequencyCtr[i]=0\n",
    "    \n",
    "    # Loop through the input list to get count of each integer occurence\n",
    "    for num in inputRandomList:\n",
    "        inputIntegerRangeFrequencyCtr[num] += 1\n",
    "    \n",
    "    # Use the frequency to generate a sorted list\n",
    "    outputSortedList=[]\n",
    "    for i in range(minIntVal,maxIntVal+1):\n",
    "        outputSortedList += [i]*inputIntegerRangeFrequencyCtr[i]\n",
    "\n",
    "    return outputSortedList"
   ]
  },
  {
   "cell_type": "markdown",
   "metadata": {},
   "source": [
    "# Set parameters which control the creation of the input list"
   ]
  },
  {
   "cell_type": "code",
   "execution_count": 11,
   "metadata": {},
   "outputs": [],
   "source": [
    "# Set input list size\n",
    "size=10000000\n",
    "# Set minimum and maximum integer value the list can hold\n",
    "minIntVal=1\n",
    "maxIntVal=100"
   ]
  },
  {
   "cell_type": "markdown",
   "metadata": {},
   "source": [
    "# Generate the input List"
   ]
  },
  {
   "cell_type": "code",
   "execution_count": 12,
   "metadata": {},
   "outputs": [],
   "source": [
    "# Generate the input list of given size\n",
    "inputRandomList=genRandList(size,minIntVal,maxIntVal)"
   ]
  },
  {
   "cell_type": "markdown",
   "metadata": {},
   "source": [
    "# Explore Input data"
   ]
  },
  {
   "cell_type": "code",
   "execution_count": 29,
   "metadata": {},
   "outputs": [
    {
     "name": "stdout",
     "output_type": "stream",
     "text": [
      "Length of the input random list : 10000000\n",
      "Starting 10 of input random List[1:10] : [4, 50, 67, 11, 78, 50, 49, 67, 83]\n",
      "Middle 10 of input random List[5000000:5000010] : [97, 46, 67, 3, 98, 85, 96, 89, 61, 18]\n",
      "Last 10 of input random List[9999990:10000000] : [83, 9, 79, 44, 79, 41, 29, 22, 28, 6]\n"
     ]
    }
   ],
   "source": [
    "# Print length of the input list\n",
    "print('Length of the input random list : {}'.format(len(inputRandomList)))\n",
    "\n",
    "# Print sample Input - BEGIN OF LIST\n",
    "print('Starting 10 of input random List[{}:{}] : {}'.format(1,10,inputRandomList[1:10]))\n",
    "\n",
    "# Print sample Input - MIDDLE OF LIST\n",
    "print('Middle 10 of input random List[{}:{}] : {}'.format(size//2,(size//2 + 10),inputRandomList[size//2:(size//2 + 10)]))\n",
    "\n",
    "# Print sample Input - END OF LIST\n",
    "print('Last 10 of input random List[{}:{}] : {}'.format(size-10,size,inputRandomList[size-10:size]))\n"
   ]
  },
  {
   "cell_type": "markdown",
   "metadata": {},
   "source": [
    "# Sort the input data"
   ]
  },
  {
   "cell_type": "code",
   "execution_count": 30,
   "metadata": {},
   "outputs": [],
   "source": [
    "# sort the input list using the function defined above\n",
    "outputSortedList=sortRandList(inputRandomList,minIntVal,maxIntVal)"
   ]
  },
  {
   "cell_type": "markdown",
   "metadata": {},
   "source": [
    "# Explore the sorted output data"
   ]
  },
  {
   "cell_type": "code",
   "execution_count": 31,
   "metadata": {},
   "outputs": [
    {
     "name": "stdout",
     "output_type": "stream",
     "text": [
      "Length of the output sorted list : 10000000\n",
      "Starting 10 of output sorted List[1:10] : [1, 1, 1, 1, 1, 1, 1, 1, 1]\n",
      "Middle 10 of output sorted List[5000000:5000010] : [51, 51, 51, 51, 51, 51, 51, 51, 51, 51]\n",
      "Last 10 of output sorted List[9999990:10000000] : [100, 100, 100, 100, 100, 100, 100, 100, 100, 100]\n"
     ]
    }
   ],
   "source": [
    "# Print length of the input list\n",
    "print('Length of the output sorted list : {}'.format(len(outputSortedList)))\n",
    "\n",
    "# Print sample Input - BEGIN OF LIST\n",
    "print('Starting 10 of output sorted List[{}:{}] : {}'.format(1,10,outputSortedList[1:10]))\n",
    "\n",
    "# Print sample Input - MIDDLE OF LIST\n",
    "print('Middle 10 of output sorted List[{}:{}] : {}'.format(size//2,(size//2 + 10),outputSortedList[size//2:(size//2 + 10)]))\n",
    "\n",
    "# Print sample Input - END OF LIST\n",
    "print('Last 10 of output sorted List[{}:{}] : {}'.format(size-10,size,outputSortedList[size-10:size]))"
   ]
  },
  {
   "cell_type": "markdown",
   "metadata": {},
   "source": [
    "# The Time complexity of the algorithm(defined in function sortRandList) is : O(n)\n",
    "# The space complexity of the algorithm(defined in function sortRandList) is : O(n)"
   ]
  },
  {
   "cell_type": "code",
   "execution_count": null,
   "metadata": {},
   "outputs": [],
   "source": []
  }
 ],
 "metadata": {
  "kernelspec": {
   "display_name": "Python 3",
   "language": "python",
   "name": "python3"
  },
  "language_info": {
   "codemirror_mode": {
    "name": "ipython",
    "version": 3
   },
   "file_extension": ".py",
   "mimetype": "text/x-python",
   "name": "python",
   "nbconvert_exporter": "python",
   "pygments_lexer": "ipython3",
   "version": "3.6.4"
  }
 },
 "nbformat": 4,
 "nbformat_minor": 2
}
