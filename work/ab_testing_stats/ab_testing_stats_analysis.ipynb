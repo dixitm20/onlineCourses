{
 "cells": [
  {
   "cell_type": "code",
   "execution_count": 202,
   "metadata": {},
   "outputs": [],
   "source": [
    "import pandas as pd\n",
    "\n",
    "# Read the input json file into pandas dataframe\n",
    "df=pd.read_json(\"searches.json\", lines = True)\n",
    "\n"
   ]
  },
  {
   "cell_type": "markdown",
   "metadata": {},
   "source": [
    "## Exploring the Data"
   ]
  },
  {
   "cell_type": "code",
   "execution_count": 203,
   "metadata": {},
   "outputs": [
    {
     "name": "stdout",
     "output_type": "stream",
     "text": [
      "   is_instructor  login_count  search_count       uid\n",
      "0           True            1             2   6061521\n",
      "1          False            4             0  11986457\n",
      "2          False            1             0  15995765\n",
      "3           True            3             0   9106912\n",
      "4          False            1             0   9882383\n",
      "dataframe dimensions: (681, 4)\n"
     ]
    }
   ],
   "source": [
    "# Print sample\n",
    "print(df.head())\n",
    "\n",
    "# Print the dataframe dimensions\n",
    "print('dataframe dimensions: {}'.format(df.shape))"
   ]
  },
  {
   "cell_type": "markdown",
   "metadata": {},
   "source": [
    "## Cleaning The Data"
   ]
  },
  {
   "cell_type": "code",
   "execution_count": 204,
   "metadata": {},
   "outputs": [
    {
     "name": "stdout",
     "output_type": "stream",
     "text": [
      "   is_instructor  login_count  search_count       uid\n",
      "0          False            4             0  11986457\n",
      "1          False            1             0  15995765\n",
      "2          False            1             0   9882383\n",
      "3          False            1             0   5333200\n",
      "4          False            2             0   3583107\n",
      "dataframe dimensions: (446, 4)\n"
     ]
    }
   ],
   "source": [
    "# remove records of users(from both design_types) which have not not logged in even once.\n",
    "# we will ignore any such records. Good thing is that we do not have any such records. \n",
    "# In case we get any such records in future we are keeping the below step as in case of bad records \n",
    "# it may lead to divide by zero error while calculating search count per login value\n",
    "\n",
    "# Also ignore the entires where is_instructor is True as these are possibly the test runs and \n",
    "# should not be considered for the experiment\n",
    "df_clean=df.drop(df[(df['login_count'] == 0) | (df['is_instructor'] == True)].index)\n",
    "\n",
    "# Reset the index to start from 0 and end at max size\n",
    "df_clean = df_clean.reset_index(drop=True)\n",
    "\n",
    "\n",
    "# Print sample\n",
    "print(df_clean.head())\n",
    "\n",
    "# Print the dataframe dimensions\n",
    "print('dataframe dimensions: {}'.format(df_clean.shape))\n"
   ]
  },
  {
   "cell_type": "markdown",
   "metadata": {},
   "source": [
    "## Preparing the Data"
   ]
  },
  {
   "cell_type": "code",
   "execution_count": 205,
   "metadata": {},
   "outputs": [
    {
     "name": "stdout",
     "output_type": "stream",
     "text": [
      "   is_instructor  login_count  search_count       uid design_type  \\\n",
      "0          False            4             0  11986457           B   \n",
      "1          False            1             0  15995765           B   \n",
      "2          False            1             0   9882383           B   \n",
      "3          False            1             0   5333200           A   \n",
      "4          False            2             0   3583107           B   \n",
      "\n",
      "   search_count_per_login  \n",
      "0                     0.0  \n",
      "1                     0.0  \n",
      "2                     0.0  \n",
      "3                     0.0  \n",
      "4                     0.0  \n"
     ]
    }
   ],
   "source": [
    "# Add column design_type which has information about the type of design (A or B) shown to given user\n",
    "df_clean['design_type']=df_clean.apply(lambda x: 'A' if x['uid'] % 2 == 0 else 'B', axis=1)\n",
    "\n",
    "\n",
    "# search_count_per_login field will be used for identifying most often search usage in a desgin\n",
    "#df_clean.loc[:,'search_count_per_login']=df_clean.loc[:,'search_count']/df_clean.loc[:,'login_count']\n",
    "df_clean['search_count_per_login']=df_clean['search_count']/df_clean['login_count']\n",
    "\n",
    "# Print sample\n",
    "print(df_clean.head())"
   ]
  },
  {
   "cell_type": "markdown",
   "metadata": {},
   "source": [
    "# Question: Did more users use the search feature in the new design (B)?\n",
    "\n",
    "### To answer this question we find the percentage of users in each design_types who have used the search \n",
    "### and verify if for group design_types: B the percentage of users using the search is higher than that of \n",
    "### group design_types: A."
   ]
  },
  {
   "cell_type": "code",
   "execution_count": 206,
   "metadata": {},
   "outputs": [
    {
     "name": "stdout",
     "output_type": "stream",
     "text": [
      "Users count of design A : 213\n",
      "Users count of design B : 233\n",
      "Users count of design A which have used the search feature: 61\n",
      "Users count of design B which have used the search feature: 65\n",
      "Users percentage in design A which have used the search feature: 28.64\n",
      "Users percentage in design B which have used the search feature: 27.9\n"
     ]
    }
   ],
   "source": [
    "# Total number of users of each design\n",
    "n_users_designA=df_clean[df_clean['design_type'] == 'A'].shape[0]\n",
    "n_users_designB=df_clean[df_clean['design_type'] == 'B'].shape[0]\n",
    "\n",
    "print('Users count of design A : {}'.format(n_users_designA))\n",
    "print('Users count of design B : {}'.format(n_users_designB))\n",
    "\n",
    "\n",
    "# Number of users in each design who have used the search feature\n",
    "n_users_usingSearch_designA=df_clean[(df_clean['design_type'] == 'A') & (df_clean['search_count'] > 0)].shape[0]\n",
    "n_users_usingSearch_designB=df_clean[(df_clean['design_type'] == 'B') & (df_clean['search_count'] > 0)].shape[0]\n",
    "\n",
    "print('Users count of design A which have used the search feature: {}'.format(n_users_usingSearch_designA))\n",
    "print('Users count of design B which have used the search feature: {}'.format(n_users_usingSearch_designB))\n",
    "\n",
    "\n",
    "# Percentage of users in each design type who have used the search feature\n",
    "userPercentage_usingSearch_designA=round(((n_users_usingSearch_designA/n_users_designA)*100),2)\n",
    "userPercentage_usingSearch_designB=round(((n_users_usingSearch_designB/n_users_designB)*100),2)\n",
    "\n",
    "print('Users percentage in design A which have used the search feature: {}'.format(userPercentage_usingSearch_designA))\n",
    "print('Users percentage in design B which have used the search feature: {}'.format(userPercentage_usingSearch_designB))\n"
   ]
  },
  {
   "cell_type": "markdown",
   "metadata": {},
   "source": [
    "# Answer: Did more users use the search feature in the new design (B)? FALSE"
   ]
  },
  {
   "cell_type": "code",
   "execution_count": 207,
   "metadata": {},
   "outputs": [
    {
     "name": "stdout",
     "output_type": "stream",
     "text": [
      "Did more users use the search feature in the new design (B): False\n"
     ]
    }
   ],
   "source": [
    "print('Did more users use the search feature in the new design (B): {}'.format(userPercentage_usingSearch_designB \\\n",
    "                                                                            > userPercentage_usingSearch_designA))\n",
    "\n"
   ]
  },
  {
   "cell_type": "markdown",
   "metadata": {},
   "source": [
    "# Question: Did users search more often in the new design (B)?\n",
    "\n",
    "### To answer this question we find the mean of the field \"search_count_per_login\" for users \n",
    "### in each group and the group which has higher mean is the one in which the search feature \n",
    "### is used more frequently."
   ]
  },
  {
   "cell_type": "code",
   "execution_count": 208,
   "metadata": {},
   "outputs": [
    {
     "name": "stdout",
     "output_type": "stream",
     "text": [
      "mean usage of search feature in design A: 0.36\n",
      "mean usage of search feature in design B: 0.35\n"
     ]
    }
   ],
   "source": [
    "# Get mean of search_count_per_login in each group\n",
    "mean_search_count_per_login_designA=round(df_clean[df_clean['design_type'] == 'A']['search_count_per_login'].mean(),2)\n",
    "mean_search_count_per_login_designB=round(df_clean[df_clean['design_type'] == 'B']['search_count_per_login'].mean(),2)\n",
    "\n",
    "# Print mean values\n",
    "print('mean usage of search feature in design A: {}'.format(mean_search_count_per_login_designA))\n",
    "print('mean usage of search feature in design B: {}'.format(mean_search_count_per_login_designB))"
   ]
  },
  {
   "cell_type": "markdown",
   "metadata": {},
   "source": [
    "# Question: Did users search more often in the new design (B)? FALSE\n"
   ]
  },
  {
   "cell_type": "code",
   "execution_count": 209,
   "metadata": {},
   "outputs": [
    {
     "name": "stdout",
     "output_type": "stream",
     "text": [
      "Did users search more often in the new design (B) : False\n"
     ]
    }
   ],
   "source": [
    "print('Did users search more often in the new design (B) : {}'.format(mean_search_count_per_login_designB \\\n",
    "                                                                            > mean_search_count_per_login_designA))"
   ]
  }
 ],
 "metadata": {
  "kernelspec": {
   "display_name": "Python 3",
   "language": "python",
   "name": "python3"
  },
  "language_info": {
   "codemirror_mode": {
    "name": "ipython",
    "version": 3
   },
   "file_extension": ".py",
   "mimetype": "text/x-python",
   "name": "python",
   "nbconvert_exporter": "python",
   "pygments_lexer": "ipython3",
   "version": "3.6.4"
  }
 },
 "nbformat": 4,
 "nbformat_minor": 2
}
