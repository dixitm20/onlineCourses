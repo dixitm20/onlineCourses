{
 "cells": [
  {
   "cell_type": "code",
   "execution_count": 242,
   "metadata": {},
   "outputs": [
    {
     "name": "stdout",
     "output_type": "stream",
     "text": [
      "1\n",
      "1\n",
      "1\n"
     ]
    }
   ],
   "source": [
    "# ''' Read input from STDIN. Print your output to STDOUT '''\n",
    "    #Use input() to read input from STDIN and use print to write your output to STDOUT\n",
    "\n",
    "def main():\n",
    "\n",
    "    # Write code here \n",
    "    NumOfTestCases = int(input())\n",
    "\n",
    "    for ctr in range(NumOfTestCases):\n",
    "        numOfHousesInput=input()\n",
    "        #print(numOfHousesInput)\n",
    "        numOfHouses=int(numOfHousesInput.strip())\n",
    "\n",
    "        ticketTokenNumbers=input()\n",
    "        #print(ticketTokenNumbers.strip())\n",
    "        ticketTokenNumbersList=[int(tokenNum) for tokenNum in ticketTokenNumbers.strip().split(' ')]\n",
    "        \n",
    "                           \n",
    "main()"
   ]
  },
  {
   "cell_type": "markdown",
   "metadata": {},
   "source": [
    " "
   ]
  },
  {
   "cell_type": "code",
   "execution_count": 3,
   "metadata": {},
   "outputs": [],
   "source": [
    "numOfElem=100\n",
    "treeDict={}\n",
    "for ctr in range(numOfElem):\n",
    "    # print('{}, {}, {}, {}'.format(ctr,ctr+2,ctr+3,numOfElem))\n",
    "    if (ctr+2) < numOfElem:\n",
    "        if (ctr+3) < numOfElem:\n",
    "            treeDict[ctr]=(ctr+2,ctr+3)\n",
    "        else:\n",
    "            treeDict[ctr]=(ctr+2,-1)\n",
    "        # print(treeDict[ctr])\n",
    "    "
   ]
  },
  {
   "cell_type": "code",
   "execution_count": 4,
   "metadata": {},
   "outputs": [
    {
     "data": {
      "text/plain": [
       "[10,\n",
       " -3,\n",
       " -3,\n",
       " -3,\n",
       " 9,\n",
       " 10,\n",
       " 7,\n",
       " -10,\n",
       " 6,\n",
       " 3,\n",
       " 5,\n",
       " -2,\n",
       " -9,\n",
       " 9,\n",
       " -2,\n",
       " -3,\n",
       " 2,\n",
       " 8,\n",
       " 1,\n",
       " -9,\n",
       " 10,\n",
       " -5,\n",
       " -5,\n",
       " -10,\n",
       " 7,\n",
       " 1,\n",
       " 9,\n",
       " -3,\n",
       " 2,\n",
       " 0,\n",
       " 7,\n",
       " 6,\n",
       " 7,\n",
       " -3,\n",
       " 8,\n",
       " 10,\n",
       " -7,\n",
       " 0,\n",
       " -10,\n",
       " 3,\n",
       " -1,\n",
       " -9,\n",
       " 6,\n",
       " 2,\n",
       " 9,\n",
       " -7,\n",
       " 3,\n",
       " -3,\n",
       " -8,\n",
       " 7,\n",
       " -8,\n",
       " 6,\n",
       " 2,\n",
       " 3,\n",
       " 10,\n",
       " -2,\n",
       " -2,\n",
       " -9,\n",
       " -1,\n",
       " 10,\n",
       " 0,\n",
       " -3,\n",
       " 0,\n",
       " -9,\n",
       " -8,\n",
       " -8,\n",
       " 7,\n",
       " -2,\n",
       " 2,\n",
       " 3,\n",
       " 1,\n",
       " 4,\n",
       " -5,\n",
       " -5,\n",
       " -6,\n",
       " -7,\n",
       " 9,\n",
       " -7,\n",
       " -7,\n",
       " 4,\n",
       " -10,\n",
       " -3,\n",
       " 1,\n",
       " 5,\n",
       " -6,\n",
       " -6,\n",
       " -2,\n",
       " 10,\n",
       " 0,\n",
       " -6,\n",
       " -10,\n",
       " 0,\n",
       " -4,\n",
       " 8,\n",
       " -2,\n",
       " 0,\n",
       " 8,\n",
       " 7,\n",
       " -3,\n",
       " -1]"
      ]
     },
     "execution_count": 4,
     "metadata": {},
     "output_type": "execute_result"
    }
   ],
   "source": [
    "import random\n",
    "inputList=[]\n",
    "for x in range(100):\n",
    "    inputList.append(random.randint(-10,10))\n",
    "inputList"
   ]
  },
  {
   "cell_type": "code",
   "execution_count": 27,
   "metadata": {},
   "outputs": [],
   "source": [
    "def paths(orig,tree, cur=()):\n",
    "    if cur:\n",
    "        if cur[0] not in range(2):\n",
    "            return\n",
    "            \n",
    "    if not tree:\n",
    "        yield cur\n",
    "        \n",
    "    else:\n",
    "        for n, s in tree.items():\n",
    "            if n in orig:\n",
    "                if orig[n][1] == -1:\n",
    "                    for path in paths(orig,{orig[n][0]:{}}, cur+(n,)):\n",
    "                        yield path\n",
    "                else:\n",
    "                    for path in paths(orig,{orig[n][0]:{},orig[n][1]:{}}, cur+(n,)):\n",
    "                        yield path\n",
    "            else:\n",
    "                for path in paths(orig,{}, cur+(n,)):\n",
    "                    yield path"
   ]
  },
  {
   "cell_type": "code",
   "execution_count": null,
   "metadata": {},
   "outputs": [],
   "source": []
  },
  {
   "cell_type": "code",
   "execution_count": 28,
   "metadata": {},
   "outputs": [],
   "source": [
    "a=list(paths(treeDict,treeDict))"
   ]
  },
  {
   "cell_type": "code",
   "execution_count": 29,
   "metadata": {},
   "outputs": [
    {
     "data": {
      "text/plain": [
       "5"
      ]
     },
     "execution_count": 29,
     "metadata": {},
     "output_type": "execute_result"
    }
   ],
   "source": [
    "len(a)"
   ]
  },
  {
   "cell_type": "code",
   "execution_count": 30,
   "metadata": {},
   "outputs": [
    {
     "data": {
      "text/plain": [
       "[(0, 2, 4), (0, 2, 5), (0, 3, 5), (1, 3, 5), (1, 4)]"
      ]
     },
     "execution_count": 30,
     "metadata": {},
     "output_type": "execute_result"
    }
   ],
   "source": [
    "a"
   ]
  },
  {
   "cell_type": "code",
   "execution_count": 38,
   "metadata": {},
   "outputs": [],
   "source": [
    "wlst=[-1,4,3,4,-2,6]"
   ]
  },
  {
   "cell_type": "code",
   "execution_count": 46,
   "metadata": {},
   "outputs": [],
   "source": [
    "def wpaths(wlst,orig,tree, cur=()):\n",
    "    if cur:\n",
    "        if cur[0] not in range(2):\n",
    "            return\n",
    "            \n",
    "    if not tree:\n",
    "        yield cur\n",
    "        \n",
    "    else:\n",
    "        for n, s in tree.items():\n",
    "            if n in orig:\n",
    "                if orig[n][1] == -1:\n",
    "                    for path in wpaths(wlst,orig,{orig[n][0]:{}}, cur+(n,)):\n",
    "                        yield path\n",
    "                else:\n",
    "                    if wlst[orig[n][0]] < 0 or wlst[orig[n][1]] < 0 or wlst[orig[n][0]]==wlst[orig[n][1]]:\n",
    "                        for path in wpaths(wlst,orig,{orig[n][0]:{},orig[n][1]:{}}, cur+(n,)):\n",
    "                            yield path\n",
    "                    else:\n",
    "                        if wlst[orig[n][0]] < wlst[orig[n][1]]:\n",
    "                            for path in wpaths(wlst,orig,{orig[n][1]:{}}, cur+(n,)):\n",
    "                                yield path\n",
    "                        else:\n",
    "                            for path in wpaths(wlst,orig,{orig[n][0]:{}}, cur+(n,)):\n",
    "                                yield path\n",
    "            else:\n",
    "                for path in wpaths(wlst,orig,{}, cur+(n,)):\n",
    "                    yield path"
   ]
  },
  {
   "cell_type": "code",
   "execution_count": null,
   "metadata": {},
   "outputs": [],
   "source": [
    "a=list(wpaths(inputList,treeDict,treeDict))"
   ]
  },
  {
   "cell_type": "code",
   "execution_count": 41,
   "metadata": {},
   "outputs": [
    {
     "data": {
      "text/plain": [
       "[(0, 3, 5), (1, 3, 5), (1, 4)]"
      ]
     },
     "execution_count": 41,
     "metadata": {},
     "output_type": "execute_result"
    }
   ],
   "source": [
    "a"
   ]
  },
  {
   "cell_type": "code",
   "execution_count": 6,
   "metadata": {},
   "outputs": [
    {
     "data": {
      "text/plain": [
       "(2, 3)"
      ]
     },
     "execution_count": 6,
     "metadata": {},
     "output_type": "execute_result"
    }
   ],
   "source": [
    "ll=[]\n",
    "ctr=0\n",
    "while True:\n",
    "    ll.append(treeDict[0])\n",
    "    \n",
    "    \n",
    "    if ctr==1000:\n",
    "        break\n"
   ]
  },
  {
   "cell_type": "code",
   "execution_count": 5,
   "metadata": {},
   "outputs": [
    {
     "data": {
      "text/plain": [
       "{0: (2, 3),\n",
       " 1: (3, 4),\n",
       " 2: (4, 5),\n",
       " 3: (5, 6),\n",
       " 4: (6, 7),\n",
       " 5: (7, 8),\n",
       " 6: (8, 9),\n",
       " 7: (9, 10),\n",
       " 8: (10, 11),\n",
       " 9: (11, 12),\n",
       " 10: (12, 13),\n",
       " 11: (13, 14),\n",
       " 12: (14, 15),\n",
       " 13: (15, 16),\n",
       " 14: (16, 17),\n",
       " 15: (17, 18),\n",
       " 16: (18, 19),\n",
       " 17: (19, 20),\n",
       " 18: (20, 21),\n",
       " 19: (21, 22),\n",
       " 20: (22, 23),\n",
       " 21: (23, 24),\n",
       " 22: (24, 25),\n",
       " 23: (25, 26),\n",
       " 24: (26, 27),\n",
       " 25: (27, 28),\n",
       " 26: (28, 29),\n",
       " 27: (29, 30),\n",
       " 28: (30, 31),\n",
       " 29: (31, 32),\n",
       " 30: (32, 33),\n",
       " 31: (33, 34),\n",
       " 32: (34, 35),\n",
       " 33: (35, 36),\n",
       " 34: (36, 37),\n",
       " 35: (37, 38),\n",
       " 36: (38, 39),\n",
       " 37: (39, 40),\n",
       " 38: (40, 41),\n",
       " 39: (41, 42),\n",
       " 40: (42, 43),\n",
       " 41: (43, 44),\n",
       " 42: (44, 45),\n",
       " 43: (45, 46),\n",
       " 44: (46, 47),\n",
       " 45: (47, 48),\n",
       " 46: (48, 49),\n",
       " 47: (49, 50),\n",
       " 48: (50, 51),\n",
       " 49: (51, 52),\n",
       " 50: (52, 53),\n",
       " 51: (53, 54),\n",
       " 52: (54, 55),\n",
       " 53: (55, 56),\n",
       " 54: (56, 57),\n",
       " 55: (57, 58),\n",
       " 56: (58, 59),\n",
       " 57: (59, 60),\n",
       " 58: (60, 61),\n",
       " 59: (61, 62),\n",
       " 60: (62, 63),\n",
       " 61: (63, 64),\n",
       " 62: (64, 65),\n",
       " 63: (65, 66),\n",
       " 64: (66, 67),\n",
       " 65: (67, 68),\n",
       " 66: (68, 69),\n",
       " 67: (69, 70),\n",
       " 68: (70, 71),\n",
       " 69: (71, 72),\n",
       " 70: (72, 73),\n",
       " 71: (73, 74),\n",
       " 72: (74, 75),\n",
       " 73: (75, 76),\n",
       " 74: (76, 77),\n",
       " 75: (77, 78),\n",
       " 76: (78, 79),\n",
       " 77: (79, 80),\n",
       " 78: (80, 81),\n",
       " 79: (81, 82),\n",
       " 80: (82, 83),\n",
       " 81: (83, 84),\n",
       " 82: (84, 85),\n",
       " 83: (85, 86),\n",
       " 84: (86, 87),\n",
       " 85: (87, 88),\n",
       " 86: (88, 89),\n",
       " 87: (89, 90),\n",
       " 88: (90, 91),\n",
       " 89: (91, 92),\n",
       " 90: (92, 93),\n",
       " 91: (93, 94),\n",
       " 92: (94, 95),\n",
       " 93: (95, 96),\n",
       " 94: (96, 97),\n",
       " 95: (97, 98),\n",
       " 96: (98, 99),\n",
       " 97: (99, -1)}"
      ]
     },
     "execution_count": 5,
     "metadata": {},
     "output_type": "execute_result"
    }
   ],
   "source": [
    "def tt(ty,key):\n",
    "    if key not in ty:\n",
    "        return 0\n",
    "    else\n",
    "        return []"
   ]
  },
  {
   "cell_type": "code",
   "execution_count": 308,
   "metadata": {
    "scrolled": true
   },
   "outputs": [],
   "source": [
    "outDict=[]\n",
    "\n",
    "for listctr in range(len(a)):\n",
    "    templst=[]\n",
    "    for ctr in a[listctr]:\n",
    "        if l[ctr] > 0:\n",
    "            templst.append(l[ctr])       \n",
    "    outDict.append(templst)\n",
    "    \n",
    "    "
   ]
  },
  {
   "cell_type": "code",
   "execution_count": 318,
   "metadata": {},
   "outputs": [],
   "source": [
    "sumlst=list(map(sum,outDict))\n",
    "maxoflst=max(sumlst)\n",
    "filterlstofMaxsum=list(filter(lambda x: x[0]==maxoflst,list(zip(sumlst,outDict))))"
   ]
  },
  {
   "cell_type": "code",
   "execution_count": 319,
   "metadata": {},
   "outputs": [
    {
     "data": {
      "text/plain": [
       "[(18, [3, 5, 10])]"
      ]
     },
     "execution_count": 319,
     "metadata": {},
     "output_type": "execute_result"
    }
   ],
   "source": [
    "filterlstofMaxsum"
   ]
  },
  {
   "cell_type": "code",
   "execution_count": 274,
   "metadata": {},
   "outputs": [
    {
     "data": {
      "text/plain": [
       "[1]"
      ]
     },
     "execution_count": 274,
     "metadata": {},
     "output_type": "execute_result"
    }
   ],
   "source": []
  },
  {
   "cell_type": "code",
   "execution_count": 279,
   "metadata": {},
   "outputs": [
    {
     "data": {
      "text/plain": [
       "'/home/dixitm/jupyter-workspace'"
      ]
     },
     "execution_count": 279,
     "metadata": {},
     "output_type": "execute_result"
    }
   ],
   "source": [
    "pwd"
   ]
  },
  {
   "cell_type": "code",
   "execution_count": null,
   "metadata": {},
   "outputs": [],
   "source": []
  }
 ],
 "metadata": {
  "kernelspec": {
   "display_name": "Python 3",
   "language": "python",
   "name": "python3"
  },
  "language_info": {
   "codemirror_mode": {
    "name": "ipython",
    "version": 3
   },
   "file_extension": ".py",
   "mimetype": "text/x-python",
   "name": "python",
   "nbconvert_exporter": "python",
   "pygments_lexer": "ipython3",
   "version": "3.7.1"
  }
 },
 "nbformat": 4,
 "nbformat_minor": 2
}
