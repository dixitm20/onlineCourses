{
 "cells": [
  {
   "cell_type": "code",
   "execution_count": 242,
   "metadata": {},
   "outputs": [
    {
     "name": "stdout",
     "output_type": "stream",
     "text": [
      "1\n",
      "1\n",
      "1\n"
     ]
    }
   ],
   "source": [
    "# ''' Read input from STDIN. Print your output to STDOUT '''\n",
    "    #Use input() to read input from STDIN and use print to write your output to STDOUT\n",
    "\n",
    "def main():\n",
    "\n",
    "    # Write code here \n",
    "    NumOfTestCases = int(input())\n",
    "\n",
    "    for ctr in range(NumOfTestCases):\n",
    "        numOfHousesInput=input()\n",
    "        #print(numOfHousesInput)\n",
    "        numOfHouses=int(numOfHousesInput.strip())\n",
    "\n",
    "        ticketTokenNumbers=input()\n",
    "        #print(ticketTokenNumbers.strip())\n",
    "        ticketTokenNumbersList=[int(tokenNum) for tokenNum in ticketTokenNumbers.strip().split(' ')]\n",
    "        \n",
    "                           \n",
    "main()"
   ]
  },
  {
   "cell_type": "markdown",
   "metadata": {},
   "source": [
    " "
   ]
  },
  {
   "cell_type": "code",
   "execution_count": 243,
   "metadata": {},
   "outputs": [],
   "source": [
    "numOfElem=10\n",
    "treeDict={}\n",
    "for ctr in range(numOfElem):\n",
    "    # print('{}, {}, {}, {}'.format(ctr,ctr+2,ctr+3,numOfElem))\n",
    "    if (ctr+2) < numOfElem:\n",
    "        if (ctr+3) < numOfElem:\n",
    "            treeDict[ctr]=(ctr+2,ctr+3)\n",
    "        else:\n",
    "            treeDict[ctr]=(ctr+2,-1)\n",
    "        # print(treeDict[ctr])\n",
    "    "
   ]
  },
  {
   "cell_type": "code",
   "execution_count": 259,
   "metadata": {},
   "outputs": [],
   "source": [
    "def paths(orig,tree, cur=()):\n",
    "    if cur:\n",
    "        if cur[0] not in range(2):\n",
    "            return\n",
    "            \n",
    "    if not tree:\n",
    "        yield cur\n",
    "        \n",
    "    else:\n",
    "        for n, s in tree.items():\n",
    "            if n in orig:\n",
    "                if orig[n][1] == -1:\n",
    "                    for path in paths(orig,{}, cur+(n,)):\n",
    "                        yield path\n",
    "                else:\n",
    "                    for path in paths(orig,{orig[n][0]:{},orig[n][1]:{}}, cur+(n,)):\n",
    "                        yield path\n",
    "            else:\n",
    "                for path in paths(orig,{}, cur+(n,)):\n",
    "                    yield path"
   ]
  },
  {
   "cell_type": "code",
   "execution_count": 290,
   "metadata": {},
   "outputs": [],
   "source": [
    "a=list(paths(treeDict,treeDict))"
   ]
  },
  {
   "cell_type": "code",
   "execution_count": 303,
   "metadata": {},
   "outputs": [],
   "source": [
    "l=[2,3,4,5,-2,6,-7,-4,1,10]"
   ]
  },
  {
   "cell_type": "code",
   "execution_count": 308,
   "metadata": {
    "scrolled": true
   },
   "outputs": [],
   "source": [
    "outDict=[]\n",
    "\n",
    "for listctr in range(len(a)):\n",
    "    templst=[]\n",
    "    for ctr in a[listctr]:\n",
    "        if l[ctr] > 0:\n",
    "            templst.append(l[ctr])       \n",
    "    outDict.append(templst)\n",
    "    \n",
    "    "
   ]
  },
  {
   "cell_type": "code",
   "execution_count": 318,
   "metadata": {},
   "outputs": [],
   "source": [
    "sumlst=list(map(sum,outDict))\n",
    "maxoflst=max(sumlst)\n",
    "filterlstofMaxsum=list(filter(lambda x: x[0]==maxoflst,list(zip(sumlst,outDict))))"
   ]
  },
  {
   "cell_type": "code",
   "execution_count": 319,
   "metadata": {},
   "outputs": [
    {
     "data": {
      "text/plain": [
       "[(18, [3, 5, 10])]"
      ]
     },
     "execution_count": 319,
     "metadata": {},
     "output_type": "execute_result"
    }
   ],
   "source": [
    "filterlstofMaxsum"
   ]
  },
  {
   "cell_type": "code",
   "execution_count": 274,
   "metadata": {},
   "outputs": [
    {
     "data": {
      "text/plain": [
       "[1]"
      ]
     },
     "execution_count": 274,
     "metadata": {},
     "output_type": "execute_result"
    }
   ],
   "source": []
  },
  {
   "cell_type": "code",
   "execution_count": 279,
   "metadata": {},
   "outputs": [
    {
     "data": {
      "text/plain": [
       "'/home/dixitm/jupyter-workspace'"
      ]
     },
     "execution_count": 279,
     "metadata": {},
     "output_type": "execute_result"
    }
   ],
   "source": [
    "pwd"
   ]
  },
  {
   "cell_type": "code",
   "execution_count": null,
   "metadata": {},
   "outputs": [],
   "source": []
  }
 ],
 "metadata": {
  "kernelspec": {
   "display_name": "Python 3",
   "language": "python",
   "name": "python3"
  },
  "language_info": {
   "codemirror_mode": {
    "name": "ipython",
    "version": 3
   },
   "file_extension": ".py",
   "mimetype": "text/x-python",
   "name": "python",
   "nbconvert_exporter": "python",
   "pygments_lexer": "ipython3",
   "version": "3.7.1"
  }
 },
 "nbformat": 4,
 "nbformat_minor": 2
}
