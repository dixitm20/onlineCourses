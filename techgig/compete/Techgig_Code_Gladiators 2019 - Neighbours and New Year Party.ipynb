{
 "cells": [
  {
   "cell_type": "code",
   "execution_count": 242,
   "metadata": {},
   "outputs": [
    {
     "name": "stdout",
     "output_type": "stream",
     "text": [
      "1\n",
      "1\n",
      "1\n"
     ]
    }
   ],
   "source": [
    "# ''' Read input from STDIN. Print your output to STDOUT '''\n",
    "    #Use input() to read input from STDIN and use print to write your output to STDOUT\n",
    "\n",
    "def main():\n",
    "\n",
    "    # Write code here \n",
    "    NumOfTestCases = int(input())\n",
    "\n",
    "    for ctr in range(NumOfTestCases):\n",
    "        numOfHousesInput=input()\n",
    "        #print(numOfHousesInput)\n",
    "        numOfHouses=int(numOfHousesInput.strip())\n",
    "\n",
    "        ticketTokenNumbers=input()\n",
    "        #print(ticketTokenNumbers.strip())\n",
    "        ticketTokenNumbersList=[int(tokenNum) for tokenNum in ticketTokenNumbers.strip().split(' ')]\n",
    "        \n",
    "                           \n",
    "main()"
   ]
  },
  {
   "cell_type": "markdown",
   "metadata": {},
   "source": [
    " "
   ]
  },
  {
   "cell_type": "code",
   "execution_count": 243,
   "metadata": {},
   "outputs": [],
   "source": [
    "numOfElem=10\n",
    "treeDict={}\n",
    "for ctr in range(numOfElem):\n",
    "    # print('{}, {}, {}, {}'.format(ctr,ctr+2,ctr+3,numOfElem))\n",
    "    if (ctr+2) < numOfElem:\n",
    "        if (ctr+3) < numOfElem:\n",
    "            treeDict[ctr]=(ctr+2,ctr+3)\n",
    "        else:\n",
    "            treeDict[ctr]=(ctr+2,-1)\n",
    "        # print(treeDict[ctr])\n",
    "    "
   ]
  },
  {
   "cell_type": "code",
   "execution_count": 259,
   "metadata": {},
   "outputs": [],
   "source": [
    "def paths(orig,tree, cur=()):\n",
    "    if cur:\n",
    "        if cur[0] not in range(2):\n",
    "            return\n",
    "            \n",
    "    if not tree:\n",
    "        yield cur\n",
    "        \n",
    "    else:\n",
    "        for n, s in tree.items():\n",
    "            if n in orig:\n",
    "                if orig[n][1] == -1:\n",
    "                    for path in paths(orig,{}, cur+(n,)):\n",
    "                        yield path\n",
    "                else:\n",
    "                    for path in paths(orig,{orig[n][0]:{},orig[n][1]:{}}, cur+(n,)):\n",
    "                        yield path\n",
    "            else:\n",
    "                for path in paths(orig,{}, cur+(n,)):\n",
    "                    yield path"
   ]
  },
  {
   "cell_type": "code",
   "execution_count": 276,
   "metadata": {},
   "outputs": [],
   "source": [
    "a=list(paths(treeDict,treeDict))"
   ]
  },
  {
   "cell_type": "code",
   "execution_count": 277,
   "metadata": {},
   "outputs": [],
   "source": [
    "l=list(range(10,20))"
   ]
  },
  {
   "cell_type": "code",
   "execution_count": 278,
   "metadata": {},
   "outputs": [
    {
     "name": "stdout",
     "output_type": "stream",
     "text": [
      "0\n",
      "2\n",
      "4\n",
      "6\n",
      "8\n",
      "0\n",
      "2\n",
      "4\n",
      "6\n",
      "9\n",
      "0\n",
      "2\n",
      "4\n",
      "7\n",
      "0\n",
      "2\n",
      "5\n",
      "7\n",
      "0\n",
      "2\n",
      "5\n",
      "8\n",
      "0\n",
      "3\n",
      "5\n",
      "7\n",
      "0\n",
      "3\n",
      "5\n",
      "8\n",
      "0\n",
      "3\n",
      "6\n",
      "8\n",
      "0\n",
      "3\n",
      "6\n",
      "9\n",
      "1\n",
      "3\n",
      "5\n",
      "7\n",
      "1\n",
      "3\n",
      "5\n",
      "8\n",
      "1\n",
      "3\n",
      "6\n",
      "8\n",
      "1\n",
      "3\n",
      "6\n",
      "9\n",
      "1\n",
      "4\n",
      "6\n",
      "8\n",
      "1\n",
      "4\n",
      "6\n",
      "9\n",
      "1\n",
      "4\n",
      "7\n"
     ]
    }
   ],
   "source": [
    "\n",
    "for lst in a:\n",
    "    for ctr in lst:\n",
    "        print(ctr)\n",
    "    "
   ]
  },
  {
   "cell_type": "code",
   "execution_count": 268,
   "metadata": {},
   "outputs": [
    {
     "data": {
      "text/plain": [
       "[]"
      ]
     },
     "execution_count": 268,
     "metadata": {},
     "output_type": "execute_result"
    }
   ],
   "source": [
    "[x for x in l if x in a[0]]"
   ]
  },
  {
   "cell_type": "code",
   "execution_count": 273,
   "metadata": {},
   "outputs": [],
   "source": [
    "a = [-2, 1, 5, 3, 8, 5, 6]\n",
    "b = [1, 1, 4]\n",
    "c = [i for i in a if i in b]"
   ]
  },
  {
   "cell_type": "code",
   "execution_count": 274,
   "metadata": {},
   "outputs": [
    {
     "data": {
      "text/plain": [
       "[1]"
      ]
     },
     "execution_count": 274,
     "metadata": {},
     "output_type": "execute_result"
    }
   ],
   "source": [
    "c"
   ]
  },
  {
   "cell_type": "code",
   "execution_count": 279,
   "metadata": {},
   "outputs": [
    {
     "data": {
      "text/plain": [
       "'/home/dixitm/jupyter-workspace'"
      ]
     },
     "execution_count": 279,
     "metadata": {},
     "output_type": "execute_result"
    }
   ],
   "source": [
    "pwd"
   ]
  },
  {
   "cell_type": "code",
   "execution_count": null,
   "metadata": {},
   "outputs": [],
   "source": []
  }
 ],
 "metadata": {
  "kernelspec": {
   "display_name": "Python 3",
   "language": "python",
   "name": "python3"
  },
  "language_info": {
   "codemirror_mode": {
    "name": "ipython",
    "version": 3
   },
   "file_extension": ".py",
   "mimetype": "text/x-python",
   "name": "python",
   "nbconvert_exporter": "python",
   "pygments_lexer": "ipython3",
   "version": "3.7.1"
  }
 },
 "nbformat": 4,
 "nbformat_minor": 2
}
