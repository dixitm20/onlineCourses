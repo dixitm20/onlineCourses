{
 "cells": [
  {
   "cell_type": "code",
   "execution_count": 57,
   "metadata": {},
   "outputs": [
    {
     "name": "stdout",
     "output_type": "stream",
     "text": [
      "2\n",
      "1\n",
      "1 2 3 4\n",
      "2 3 4 5\n",
      "WIN\n",
      "1\n",
      "3 4 5 6\n",
      "1 7 8 9\n",
      "LOSE\n"
     ]
    }
   ],
   "source": [
    "''' Read input from STDIN. Print your output to STDOUT '''\n",
    "    #Use input() to read input from STDIN and use print to write your output to STDOUT\n",
    "\n",
    "def main():\n",
    "    # Write code here \n",
    "    NumOfTestCases = int(input())\n",
    "\n",
    "    for ctr in range(NumOfTestCases):\n",
    "        numOfVilliansInput=input()\n",
    "        #print(numOfVilliansInput)\n",
    "        numOfVillians=int(numOfVilliansInput.strip())\n",
    "\n",
    "        villianStrengths=input()\n",
    "        #print(villianStrengths.strip())\n",
    "        villianStrengthsList=[int(strength) for strength in villianStrengths.strip().split(' ')]\n",
    "        \n",
    "        playersEnergy=input()\n",
    "        #print(playersEnergy.strip())\n",
    "        playersEnergyList=[int(energy) for energy in playersEnergy.strip().split(' ')]\n",
    "        \n",
    "        villianStrengthsList.sort()\n",
    "        playersEnergyList.sort()\n",
    "\n",
    "        villianStrongerThanPlayerList=list(filter(lambda x: x[1] >= x[0] , zip(playersEnergyList,villianStrengthsList)))\n",
    "        \n",
    "        if len(villianStrongerThanPlayerList) > 0:\n",
    "            print('LOSE')\n",
    "        else:\n",
    "            print('WIN')\n",
    "\n",
    "main()"
   ]
  },
  {
   "cell_type": "code",
   "execution_count": null,
   "metadata": {},
   "outputs": [],
   "source": []
  }
 ],
 "metadata": {
  "kernelspec": {
   "display_name": "Python 3",
   "language": "python",
   "name": "python3"
  },
  "language_info": {
   "codemirror_mode": {
    "name": "ipython",
    "version": 3
   },
   "file_extension": ".py",
   "mimetype": "text/x-python",
   "name": "python",
   "nbconvert_exporter": "python",
   "pygments_lexer": "ipython3",
   "version": "3.7.1"
  }
 },
 "nbformat": 4,
 "nbformat_minor": 2
}
